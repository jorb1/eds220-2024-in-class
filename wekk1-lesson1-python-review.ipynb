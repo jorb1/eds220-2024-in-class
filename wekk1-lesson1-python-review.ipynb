{
 "cells": [
  {
   "cell_type": "markdown",
   "id": "9431cc13-abea-4878-8145-500089de61ee",
   "metadata": {},
   "source": [
    "# Python review\n",
    "\n",
    "Short review about some core concepts in Python exemplified by objects in the Numpy library. \n",
    "\n",
    "Goals:\n",
    "\n",
    "- recall basic Pythyon vocabulary\n",
    "- practice markdown syntax\n",
    "\n",
    "## Libraries and packages\n",
    "\n",
    "**library:** is a collection of code that we can use to perform specific tasks in our programs. It can be a single file or multiple files. \n",
    "\n",
    "**NumPy:**\n",
    "\n",
    "- core library for numberical computation in Python\n",
    "- many libraries use Numpy arrays as their building blocks\n",
    "- computations on Numpy objects are optimized for speed and memory usage\n",
    "\n",
    "Let's import numpy with its **standard abbrviation np**"
   ]
  },
  {
   "cell_type": "code",
   "execution_count": 1,
   "id": "80b3c8bd-d278-42a9-97ff-375e522d9d31",
   "metadata": {
    "tags": []
   },
   "outputs": [],
   "source": [
    "import numpy as np"
   ]
  },
  {
   "cell_type": "markdown",
   "id": "9a6b6b14-e89c-4875-871d-df94a75888c2",
   "metadata": {},
   "source": [
    "(esc + press M twice -> convert code cell to markdown cell)\n",
    "\n",
    "## Variables\n",
    "\n",
    "**variable** a name is assign to a particular object in Python\n",
    "\n",
    "Example:"
   ]
  },
  {
   "cell_type": "code",
   "execution_count": 2,
   "id": "1fd90dc2-b12a-414e-b897-099a426ebc31",
   "metadata": {
    "tags": []
   },
   "outputs": [],
   "source": [
    "# Assign a small array to variable a \n",
    "a = np.array([ [1,1,2], [3,5,8]])"
   ]
  },
  {
   "cell_type": "markdown",
   "id": "09c0896b-f682-4772-93b5-22e118b0add8",
   "metadata": {},
   "source": [
    "To view a variable's valuye from our Jupyter notebook:"
   ]
  },
  {
   "cell_type": "code",
   "execution_count": 3,
   "id": "e4eb936c-01cb-4869-a530-d8b97be739a8",
   "metadata": {
    "tags": []
   },
   "outputs": [
    {
     "data": {
      "text/plain": [
       "array([[1, 1, 2],\n",
       "       [3, 5, 8]])"
      ]
     },
     "execution_count": 3,
     "metadata": {},
     "output_type": "execute_result"
    }
   ],
   "source": [
    "# Run cell with variable name to show value\n",
    "a"
   ]
  },
  {
   "cell_type": "code",
   "execution_count": 4,
   "id": "4a4e82e7-029b-4bca-a266-55719091b811",
   "metadata": {
    "tags": []
   },
   "outputs": [
    {
     "name": "stdout",
     "output_type": "stream",
     "text": [
      "[[1 1 2]\n",
      " [3 5 8]]\n"
     ]
    }
   ],
   "source": [
    "#Use `print` function to print the value\n",
    "print(a)"
   ]
  },
  {
   "cell_type": "code",
   "execution_count": null,
   "id": "7af0d150-cb9e-4d57-97d2-598201b2acb1",
   "metadata": {},
   "outputs": [],
   "source": []
  }
 ],
 "metadata": {
  "kernelspec": {
   "display_name": "Anaconda 3 (Base)",
   "language": "python",
   "name": "base"
  },
  "language_info": {
   "codemirror_mode": {
    "name": "ipython",
    "version": 3
   },
   "file_extension": ".py",
   "mimetype": "text/x-python",
   "name": "python",
   "nbconvert_exporter": "python",
   "pygments_lexer": "ipython3",
   "version": "3.9.13"
  }
 },
 "nbformat": 4,
 "nbformat_minor": 5
}
