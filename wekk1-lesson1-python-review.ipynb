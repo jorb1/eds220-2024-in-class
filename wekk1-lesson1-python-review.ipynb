{
 "cells": [
  {
   "cell_type": "markdown",
   "id": "9431cc13-abea-4878-8145-500089de61ee",
   "metadata": {},
   "source": [
    "# Python review\n",
    "\n",
    "Short review about some core concepts in Python exemplified by objects in the Numpy library. \n",
    "\n",
    "Goals:\n",
    "\n",
    "- recall basic Pythyon vocabulary\n",
    "- practice markdown syntax\n",
    "\n",
    "## Libraries and packages\n",
    "\n",
    "**library:** is a collection of code that we can use to perform specific tasks in our programs. It can be a single file or multiple files. \n",
    "\n",
    "**NumPy:**\n",
    "\n",
    "- core library for numberical computation in Python\n",
    "- many libraries use Numpy arrays as their building blocks\n",
    "- computations on Numpy objects are optimized for speed and memory usage\n",
    "\n",
    "Let's import numpy with its **standard abbrviation np**"
   ]
  },
  {
   "cell_type": "code",
   "execution_count": 1,
   "id": "80b3c8bd-d278-42a9-97ff-375e522d9d31",
   "metadata": {
    "tags": []
   },
   "outputs": [],
   "source": [
    "import numpy as np"
   ]
  },
  {
   "cell_type": "markdown",
   "id": "9a6b6b14-e89c-4875-871d-df94a75888c2",
   "metadata": {},
   "source": [
    "(esc + press M twice -> convert code cell to markdown cell)\n",
    "\n",
    "## Variables\n",
    "\n",
    "**variable** a name is assign to a particular object in Python\n",
    "\n",
    "Example:"
   ]
  },
  {
   "cell_type": "code",
   "execution_count": 2,
   "id": "1fd90dc2-b12a-414e-b897-099a426ebc31",
   "metadata": {
    "tags": []
   },
   "outputs": [],
   "source": [
    "# Assign a small array to variable a \n",
    "a = np.array([ [1,1,2], [3,5,8]])"
   ]
  },
  {
   "cell_type": "markdown",
   "id": "09c0896b-f682-4772-93b5-22e118b0add8",
   "metadata": {},
   "source": [
    "To view a variable's valuye from our Jupyter notebook:"
   ]
  },
  {
   "cell_type": "code",
   "execution_count": 3,
   "id": "e4eb936c-01cb-4869-a530-d8b97be739a8",
   "metadata": {
    "tags": []
   },
   "outputs": [
    {
     "data": {
      "text/plain": [
       "array([[1, 1, 2],\n",
       "       [3, 5, 8]])"
      ]
     },
     "execution_count": 3,
     "metadata": {},
     "output_type": "execute_result"
    }
   ],
   "source": [
    "# Run cell with variable name to show value\n",
    "a"
   ]
  },
  {
   "cell_type": "code",
   "execution_count": 4,
   "id": "4a4e82e7-029b-4bca-a266-55719091b811",
   "metadata": {
    "tags": []
   },
   "outputs": [
    {
     "name": "stdout",
     "output_type": "stream",
     "text": [
      "[[1 1 2]\n",
      " [3 5 8]]\n"
     ]
    }
   ],
   "source": [
    "#Use `print` function to print the value\n",
    "print(a)"
   ]
  },
  {
   "cell_type": "markdown",
   "id": "298ad9d7-446f-4b15-832c-55de7acee611",
   "metadata": {},
   "source": [
    "## Convention: Use `snake case` for naming variables\n",
    "\n",
    "This is the convention we will use in the course. Why? `my-variable` or `MyVariable` or `my_variable`\n",
    "PEP 8 - Style guide for python code recommends snake_case. \n",
    "\n",
    "**Rememeber that variable names should beoth be descriptive and concise!**\n",
    "\n",
    "## Objects\n",
    "\n",
    "**object:** (informally speaking) is a bundle of *properties* and *actions* about something specific. \n",
    "\n",
    "Example:\n",
    "\n",
    "Object: data frame\n",
    "Properties: number of rows, names of columns, and date created\n",
    "Actions: selecting a specifice row or adding a new column. \n",
    "\n",
    "A variable is the name we give a specific object, and the same object can be reference by different variables. \n",
    "\n",
    "In practice, we can often use the word variable and object interchangeably.\n",
    "\n",
    "## Types\n",
    "\n",
    "Every object in Python has a type, the type tells us what kind of object it is. \n",
    "We can also call the type of an object, the **class** of an object, so class and type both mean what kind of object we have."
   ]
  },
  {
   "cell_type": "code",
   "execution_count": 5,
   "id": "4fe3e5ba-16ea-473c-9b43-a55be6d363b6",
   "metadata": {
    "tags": []
   },
   "outputs": [
    {
     "name": "stdout",
     "output_type": "stream",
     "text": [
      "[[1 1 2]\n",
      " [3 5 8]]\n"
     ]
    },
    {
     "data": {
      "text/plain": [
       "numpy.ndarray"
      ]
     },
     "execution_count": 5,
     "metadata": {},
     "output_type": "execute_result"
    }
   ],
   "source": [
    "print(a)\n",
    "type(a)\n",
    "\n",
    "#We can see the type/class of a variable/object by using the type function:"
   ]
  },
  {
   "cell_type": "markdown",
   "id": "48e6f1aa-abe0-4136-a153-8fcb802b8325",
   "metadata": {},
   "source": [
    "The numpy.ndarray is the core object/data type in the NumPy package. We can check the type of an entry in the array by indexing:"
   ]
  },
  {
   "cell_type": "code",
   "execution_count": 6,
   "id": "b334bc7f-3b52-4a20-b7c3-fe5095d8293f",
   "metadata": {
    "tags": []
   },
   "outputs": [
    {
     "name": "stdout",
     "output_type": "stream",
     "text": [
      "1\n"
     ]
    },
    {
     "data": {
      "text/plain": [
       "numpy.int64"
      ]
     },
     "execution_count": 6,
     "metadata": {},
     "output_type": "execute_result"
    }
   ],
   "source": [
    "print(a[0,0])\n",
    "\n",
    "type(a[0,0])"
   ]
  },
  {
   "cell_type": "markdown",
   "id": "6800d364-0a2f-4111-b481-34b723732f00",
   "metadata": {},
   "source": [
    "`numpy.int64` and not just the standard Python integer type `int`. \n",
    "\n",
    "The NumPy type `numpy.int64` is telling us 1 is an integer stored as a 64-bit number. "
   ]
  },
  {
   "cell_type": "markdown",
   "id": "33262299-c1df-4153-8a0a-b8ff41956e47",
   "metadata": {},
   "source": [
    "How would you access the value 5 in the array a? `a[1,1]``"
   ]
  },
  {
   "cell_type": "code",
   "execution_count": 7,
   "id": "68865b76-45f5-495f-987c-fae51349dff8",
   "metadata": {
    "tags": []
   },
   "outputs": [
    {
     "data": {
      "text/plain": [
       "5"
      ]
     },
     "execution_count": 7,
     "metadata": {},
     "output_type": "execute_result"
    }
   ],
   "source": [
    "a[1,1]"
   ]
  },
  {
   "cell_type": "markdown",
   "id": "411f8144-f7ba-4464-b783-c7a1f643fd73",
   "metadata": {},
   "source": [
    "## Functions\n",
    "\n",
    "`print` was our first example of a Python **function**. \n",
    "\n",
    "Functions take in a set of arguments, separated by commas, and use those arguments to create an **output**.\n",
    "\n",
    "There are several built-in funcions in Python, most of them are for interacting with the Python basic data types such as int (integers), float (decimal numbers), str (strings), and bool (boolean values).\n",
    "\n",
    "In this course we will use argument and parameter interchangeably. They do, however, have related but different meanings.\n",
    "\n",
    "We can ask for information about what a function does function by executing ? followed by the function name:"
   ]
  },
  {
   "cell_type": "code",
   "execution_count": 8,
   "id": "d36527ac-dfa2-4762-9789-dbf15d5551ab",
   "metadata": {
    "tags": []
   },
   "outputs": [
    {
     "data": {
      "text/plain": [
       "\u001b[0;31mDocstring:\u001b[0m\n",
       "print(value, ..., sep=' ', end='\\n', file=sys.stdout, flush=False)\n",
       "\n",
       "Prints the values to a stream, or to sys.stdout by default.\n",
       "Optional keyword arguments:\n",
       "file:  a file-like object (stream); defaults to the current sys.stdout.\n",
       "sep:   string inserted between values, default a space.\n",
       "end:   string appended after the last value, default a newline.\n",
       "flush: whether to forcibly flush the stream.\n",
       "\u001b[0;31mType:\u001b[0m      builtin_function_or_method\n"
      ]
     },
     "metadata": {},
     "output_type": "display_data"
    }
   ],
   "source": [
    "?print"
   ]
  },
  {
   "cell_type": "markdown",
   "id": "c409b863-358a-4856-b7f0-2048146a53f6",
   "metadata": {},
   "source": [
    "What we obtain is a **docstring**, a special type of comment that is used to document how a function (or class, or module) works.\n",
    "\n",
    "You can see there are different types of arguments inside the parenthesis. Roughly speaking, a function has two types of arguments:\n",
    "\n",
    "- **non-optional arguments**: arguments you need to specify for the function to do something, and\n",
    "- **optional arguments**: arguments that are pre-filled with a default value by the function, but you can override them. Optional arguments appear inside the parenthesis () in the form `optional_argument = default_value`."
   ]
  },
  {
   "cell_type": "markdown",
   "id": "81fa8ba4-8932-4a7d-b93a-1916e38ae3c5",
   "metadata": {},
   "source": [
    "## Example\n",
    "\n",
    "`end` is a parameter in print with the default value a new line. We can pass the value ``^_^` to this parameter so that finishes the line with ``^_^`` instead:"
   ]
  },
  {
   "cell_type": "code",
   "execution_count": 10,
   "id": "78f83370-a409-47e3-8066-395f7628a389",
   "metadata": {
    "tags": []
   },
   "outputs": [
    {
     "name": "stdout",
     "output_type": "stream",
     "text": [
      "changing the default end argument of the print function ^_^"
     ]
    }
   ],
   "source": [
    "print('changing the default end argument of the print function', end=' ^_^')"
   ]
  },
  {
   "cell_type": "markdown",
   "id": "7dd61fe8-23cd-4ec6-9c29-60fb40f97d98",
   "metadata": {},
   "source": [
    "## Attributes & methods\n",
    "\n",
    "An object in Python has attributes and methods. \n",
    "\n",
    "- **attribute** is a property of the object, some piece of information about it. \n",
    "- **method** is a procedure associated with an object, so it is an action where the main ingredient is the object.\n",
    "\n",
    "Example:\n",
    "NumPy arrays have many methods and attributes. Let’s see some concrete examples."
   ]
  },
  {
   "cell_type": "code",
   "execution_count": 11,
   "id": "3445abe0-4f86-48bb-b31c-7c6393480493",
   "metadata": {
    "tags": []
   },
   "outputs": [
    {
     "data": {
      "text/plain": [
       "array([[1, 1, 2],\n",
       "       [3, 5, 8]])"
      ]
     },
     "execution_count": 11,
     "metadata": {},
     "output_type": "execute_result"
    }
   ],
   "source": [
    "a"
   ]
  },
  {
   "cell_type": "code",
   "execution_count": 12,
   "id": "9c4cc203-b1d1-441f-ba5a-ee7634e9003c",
   "metadata": {
    "tags": []
   },
   "outputs": [
    {
     "name": "stdout",
     "output_type": "stream",
     "text": [
      "[[1 3]\n",
      " [1 5]\n",
      " [2 8]]\n",
      "<class 'numpy.ndarray'>\n"
     ]
    }
   ],
   "source": [
    "print(a.T)\n",
    "print(type(a.T))"
   ]
  },
  {
   "cell_type": "code",
   "execution_count": 13,
   "id": "5b566b89-1fa9-4853-b1eb-ef5844065c53",
   "metadata": {
    "tags": []
   },
   "outputs": [
    {
     "data": {
      "text/plain": [
       "numpy.ndarray"
      ]
     },
     "execution_count": 13,
     "metadata": {},
     "output_type": "execute_result"
    }
   ],
   "source": [
    "type(a.T)"
   ]
  },
  {
   "cell_type": "code",
   "execution_count": 14,
   "id": "7a812d21-7c51-4fdf-a14b-59eb0a5d27ee",
   "metadata": {
    "tags": []
   },
   "outputs": [
    {
     "name": "stdout",
     "output_type": "stream",
     "text": [
      "(2, 3)\n"
     ]
    }
   ],
   "source": [
    "#shape, another attribute, tells us the shape of the array:\n",
    "\n",
    "print(a.shape)"
   ]
  },
  {
   "cell_type": "code",
   "execution_count": 15,
   "id": "e292b3e3-3b3e-4444-9ab8-49c191920596",
   "metadata": {
    "tags": []
   },
   "outputs": [
    {
     "name": "stdout",
     "output_type": "stream",
     "text": [
      "<class 'tuple'>\n"
     ]
    }
   ],
   "source": [
    "print(type(a.shape))"
   ]
  },
  {
   "cell_type": "code",
   "execution_count": 16,
   "id": "4fdb94b3-5510-40bc-9b85-4b342645dc1b",
   "metadata": {
    "tags": []
   },
   "outputs": [
    {
     "name": "stdout",
     "output_type": "stream",
     "text": [
      "dim 2 | type: <class 'int'>\n"
     ]
    }
   ],
   "source": [
    "#ndim  is an attribute holding the number of array dimensions\n",
    "print('dim', a.ndim, '| type:', type(a.ndim))"
   ]
  },
  {
   "cell_type": "markdown",
   "id": "dae47c08-887e-4118-9328-b0797c0e9e51",
   "metadata": {},
   "source": [
    "Attributes can have many different data types. \n",
    "\n",
    "Some examples of methods:"
   ]
  },
  {
   "cell_type": "code",
   "execution_count": 17,
   "id": "b01b2d07-4d81-4c09-a092-d7812d3ca7fe",
   "metadata": {
    "tags": []
   },
   "outputs": [
    {
     "name": "stdout",
     "output_type": "stream",
     "text": [
      "[[1 1 2]\n",
      " [3 5 8]]\n"
     ]
    },
    {
     "data": {
      "text/plain": [
       "array([1, 1, 2])"
      ]
     },
     "execution_count": 17,
     "metadata": {},
     "output_type": "execute_result"
    }
   ],
   "source": [
    "#The min method returns the minimum value in the array along a specified axis:\n",
    "print(a)\n",
    "a.min(axis=0)"
   ]
  },
  {
   "cell_type": "code",
   "execution_count": 18,
   "id": "bfa7672a-ba0a-4e56-9271-5d3cf4c0f093",
   "metadata": {
    "tags": []
   },
   "outputs": [
    {
     "data": {
      "text/plain": [
       "1"
      ]
     },
     "execution_count": 18,
     "metadata": {},
     "output_type": "execute_result"
    }
   ],
   "source": [
    "#run min method with axis\n",
    "a.min()"
   ]
  },
  {
   "cell_type": "markdown",
   "id": "5f1e0f65-db02-4f6f-b11a-22f9cefb9252",
   "metadata": {},
   "source": [
    "Remember, methods are functions associated to an object. We can confirm this!"
   ]
  },
  {
   "cell_type": "code",
   "execution_count": 19,
   "id": "690bd979-d2b0-4f6d-b32d-cc33f1008473",
   "metadata": {
    "tags": []
   },
   "outputs": [
    {
     "data": {
      "text/plain": [
       "[[1, 1, 2], [3, 5, 8]]"
      ]
     },
     "execution_count": 19,
     "metadata": {},
     "output_type": "execute_result"
    }
   ],
   "source": [
    "# method tolist() transform array to list\n",
    "a.tolist()"
   ]
  },
  {
   "cell_type": "code",
   "execution_count": 20,
   "id": "73247f7a-7a50-4a95-86c4-ec964f00a021",
   "metadata": {
    "tags": []
   },
   "outputs": [
    {
     "data": {
      "text/plain": [
       "builtin_function_or_method"
      ]
     },
     "execution_count": 20,
     "metadata": {},
     "output_type": "execute_result"
    }
   ],
   "source": [
    "type(a.tolist)"
   ]
  },
  {
   "cell_type": "code",
   "execution_count": 21,
   "id": "65453859-f83c-4620-8d91-7ae67fc4879c",
   "metadata": {
    "tags": []
   },
   "outputs": [
    {
     "data": {
      "text/plain": [
       "\u001b[0;31mDocstring:\u001b[0m\n",
       "print(value, ..., sep=' ', end='\\n', file=sys.stdout, flush=False)\n",
       "\n",
       "Prints the values to a stream, or to sys.stdout by default.\n",
       "Optional keyword arguments:\n",
       "file:  a file-like object (stream); defaults to the current sys.stdout.\n",
       "sep:   string inserted between values, default a space.\n",
       "end:   string appended after the last value, default a newline.\n",
       "flush: whether to forcibly flush the stream.\n",
       "\u001b[0;31mType:\u001b[0m      builtin_function_or_method\n"
      ]
     },
     "metadata": {},
     "output_type": "display_data"
    }
   ],
   "source": [
    "print?"
   ]
  },
  {
   "cell_type": "markdown",
   "id": "ebd85a1e-77ca-4af1-a8f1-59772c7ac77a",
   "metadata": {},
   "source": [
    "sep:   string inserted between values, default a space. "
   ]
  },
  {
   "cell_type": "code",
   "execution_count": 25,
   "id": "f8ec8293-1a93-4e64-9add-0dff2c145fb1",
   "metadata": {
    "tags": []
   },
   "outputs": [],
   "source": [
    "f = 77\n",
    "g_string = '99'"
   ]
  },
  {
   "cell_type": "code",
   "execution_count": 26,
   "id": "b8fd888a-9f91-432d-a51f-b1f9fe6f8098",
   "metadata": {
    "tags": []
   },
   "outputs": [
    {
     "name": "stdout",
     "output_type": "stream",
     "text": [
      "77%99%77\n"
     ]
    }
   ],
   "source": [
    "print(f, g_string, f, sep = '%')"
   ]
  },
  {
   "cell_type": "code",
   "execution_count": null,
   "id": "27aac63c-fb32-4ee7-ab21-ed7286644ecd",
   "metadata": {},
   "outputs": [],
   "source": []
  }
 ],
 "metadata": {
  "kernelspec": {
   "display_name": "Anaconda 3 (Base)",
   "language": "python",
   "name": "base"
  },
  "language_info": {
   "codemirror_mode": {
    "name": "ipython",
    "version": 3
   },
   "file_extension": ".py",
   "mimetype": "text/x-python",
   "name": "python",
   "nbconvert_exporter": "python",
   "pygments_lexer": "ipython3",
   "version": "3.9.13"
  }
 },
 "nbformat": 4,
 "nbformat_minor": 5
}
