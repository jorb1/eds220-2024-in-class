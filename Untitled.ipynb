{
 "cells": [
  {
   "cell_type": "code",
   "execution_count": 1,
   "id": "38e05ec9-072b-4e32-b858-bfbc008e648e",
   "metadata": {
    "tags": []
   },
   "outputs": [
    {
     "data": {
      "text/plain": [
       "(0.1603357553818452,\n",
       " 0.26598552904870054,\n",
       " 0.3934693402873666,\n",
       " 0.2914892565644963,\n",
       " 0.2591817793182821)"
      ]
     },
     "execution_count": 1,
     "metadata": {},
     "output_type": "execute_result"
    }
   ],
   "source": [
    "import math\n",
    "\n",
    "# For the normal distribution problems\n",
    "mu = 30  # mean\n",
    "sigma = 16  # standard deviation\n",
    "\n",
    "# Z-scores for the first problem (commute times between 40 and 50 minutes)\n",
    "Z_1 = (40 - mu) / sigma  # Z-score for 40 minutes\n",
    "Z_2 = (50 - mu) / sigma  # Z-score for 50 minutes\n",
    "\n",
    "# Z-score for the second problem (commute time less than 20 minutes)\n",
    "Z_3 = (20 - mu) / sigma  # Z-score for 20 minutes\n",
    "\n",
    "# Cumulative distribution function for normal distribution (using Python's math library for normal CDF)\n",
    "from scipy.stats import norm\n",
    "\n",
    "# Probabilities from the normal distribution CDF\n",
    "P_40_to_50 = norm.cdf(Z_2) - norm.cdf(Z_1)\n",
    "P_less_than_20 = norm.cdf(Z_3)\n",
    "\n",
    "# For the exponential distribution problems\n",
    "lambda_exp = 0.1  # rate parameter for exponential distribution\n",
    "\n",
    "# Exponential distribution formulas\n",
    "P_less_than_5 = 1 - math.exp(-lambda_exp * 5)\n",
    "P_3_to_8 = (1 - math.exp(-lambda_exp * 8)) - (1 - math.exp(-lambda_exp * 3))\n",
    "P_less_than_3 = 1 - math.exp(-lambda_exp * 3)\n",
    "\n",
    "P_40_to_50, P_less_than_20, P_less_than_5, P_3_to_8, P_less_than_3"
   ]
  },
  {
   "cell_type": "code",
   "execution_count": null,
   "id": "2d839b6d-a0be-4174-833f-28fa5c310b56",
   "metadata": {},
   "outputs": [],
   "source": []
  }
 ],
 "metadata": {
  "kernelspec": {
   "display_name": "Anaconda 3 (Base)",
   "language": "python",
   "name": "base"
  },
  "language_info": {
   "codemirror_mode": {
    "name": "ipython",
    "version": 3
   },
   "file_extension": ".py",
   "mimetype": "text/x-python",
   "name": "python",
   "nbconvert_exporter": "python",
   "pygments_lexer": "ipython3",
   "version": "3.9.13"
  }
 },
 "nbformat": 4,
 "nbformat_minor": 5
}
