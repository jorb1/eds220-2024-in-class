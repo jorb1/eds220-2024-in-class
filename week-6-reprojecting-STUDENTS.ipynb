{
 "cells": [
  {
   "cell_type": "markdown",
   "metadata": {},
   "source": [
    "# 11 Reprojecting\n",
    "\n",
    "In this section we will:\n",
    "- practice merging data frames\n",
    "- apply `if-else` statements for flow control\n",
    "- reproject geospatial data \n",
    "- create a choropleth map\n",
    "\n",
    "## About the data\n",
    "\n",
    "The first dataset we will use is a [list of Arctic communities and their location](https://search.dataone.org/view/doi%3A10.18739%2FA28S4JQ80) @brook_approximate_2023 created by the [Alaska Native Tribal Health Consortium](https://www.anthc.org). This data comess in GeoJSON file with the following attributes:\n",
    "\n",
    "- **name**: name of Arctic community, \n",
    "- **population**: population of Arctic community, as of 2022\n",
    "- **country**: country that the Arctic community falls within (see dataset metadata for the codes)\n",
    "- **geoname-id**: numeric codes that uniquely identify all administrative/legal and statistical geographic areas for which the Census Bureau tabulates data\n",
    "\n",
    "The second dataset is [Natural Earth's medium scale  cultural boundaries data for countries (1:50m)](https://www.naturalearthdata.com/downloads/50m-cultural-vectors/). \n",
    "We can obtain this dataset by downloading the shapefile. \n",
    "[Natural Earth](https://www.naturalearthdata.com) is a public domain dataset with ready-to-use data for creating maps. \n",
    "\n",
    "## Import data\n",
    "\n",
    "We will first import the countries shapefile and adapt it for wrangling purposes:\n",
    "\n",
    "**EXERCISE** \n",
    "\n",
    "The following code has 4 bugs, find them and correct them in order to udpate the data."
   ]
  },
  {
   "cell_type": "code",
   "execution_count": 7,
   "metadata": {
    "tags": []
   },
   "outputs": [],
   "source": [
    "import os\n",
    "import pandas as pd\n",
    "import matplotlib.pyplot as plt\n",
    "import geopandas as gpd\n",
    "\n",
    "\"\"\"\n",
    "Set environment variable 'PROJ_LIB' to specify the path for the PROJ library\n",
    "Resolves ERROR 1: PROJ: proj_create_from_database\n",
    "\"\"\"\"\"\n",
    "os.environ['PROJ_LIB'] = '/opt/anaconda3/share/proj'\n",
    "\n",
    "# -------------------------------------------------------\n",
    "# Import data\n",
    "\n",
    "# Path to course data folder\n",
    "data_folder_fp = os.path.join('/',\n",
    "                              'courses',\n",
    "                              'EDS220', \n",
    "                              'data')\n",
    "\n",
    "# Import countries shapefile\n",
    "fp = os.path.join(data_folder_fp, \n",
    "                  'ne_50m_admin_0_countries', \n",
    "                  'ne_50m_admin_0_countries.shp')\n",
    "countries = gpd.read_file(fp)\n",
    "countries.columns = countries.columns.str.lower()  # Simplify column names\n",
    "\n",
    "# Import Arctic communities GeoJSON directly from URL\n",
    "URL = 'https://cn.dataone.org/cn/v2/resolve/urn%3Auuid%3Aed7718ae-fb0d-43dd-9270-fbfe80bfc7a4'\n",
    "communities = gpd.read_file(URL)\n",
    "\n",
    "# Import country names CSV\n",
    "fp = os.path.join(data_folder_fp, \n",
    "                  'country_names', \n",
    "                  'country_names.csv')\n",
    "country_names = pd.read_csv(fp)"
   ]
  },
  {
   "cell_type": "code",
   "execution_count": 8,
   "metadata": {
    "tags": []
   },
   "outputs": [
    {
     "data": {
      "text/html": [
       "<div>\n",
       "<style scoped>\n",
       "    .dataframe tbody tr th:only-of-type {\n",
       "        vertical-align: middle;\n",
       "    }\n",
       "\n",
       "    .dataframe tbody tr th {\n",
       "        vertical-align: top;\n",
       "    }\n",
       "\n",
       "    .dataframe thead th {\n",
       "        text-align: right;\n",
       "    }\n",
       "</style>\n",
       "<table border=\"1\" class=\"dataframe\">\n",
       "  <thead>\n",
       "    <tr style=\"text-align: right;\">\n",
       "      <th></th>\n",
       "      <th>admin</th>\n",
       "      <th>type</th>\n",
       "      <th>geometry</th>\n",
       "    </tr>\n",
       "  </thead>\n",
       "  <tbody>\n",
       "    <tr>\n",
       "      <th>0</th>\n",
       "      <td>Zimbabwe</td>\n",
       "      <td>Sovereign country</td>\n",
       "      <td>POLYGON ((31.28789 -22.40205, 31.19727 -22.344...</td>\n",
       "    </tr>\n",
       "    <tr>\n",
       "      <th>1</th>\n",
       "      <td>Zambia</td>\n",
       "      <td>Sovereign country</td>\n",
       "      <td>POLYGON ((30.39609 -15.64307, 30.25068 -15.643...</td>\n",
       "    </tr>\n",
       "    <tr>\n",
       "      <th>2</th>\n",
       "      <td>Yemen</td>\n",
       "      <td>Sovereign country</td>\n",
       "      <td>MULTIPOLYGON (((53.08564 16.64839, 52.58145 16...</td>\n",
       "    </tr>\n",
       "  </tbody>\n",
       "</table>\n",
       "</div>"
      ],
      "text/plain": [
       "      admin               type  \\\n",
       "0  Zimbabwe  Sovereign country   \n",
       "1    Zambia  Sovereign country   \n",
       "2     Yemen  Sovereign country   \n",
       "\n",
       "                                            geometry  \n",
       "0  POLYGON ((31.28789 -22.40205, 31.19727 -22.344...  \n",
       "1  POLYGON ((30.39609 -15.64307, 30.25068 -15.643...  \n",
       "2  MULTIPOLYGON (((53.08564 16.64839, 52.58145 16...  "
      ]
     },
     "execution_count": 8,
     "metadata": {},
     "output_type": "execute_result"
    }
   ],
   "source": [
    "countries = countries[['admin', 'type', 'geometry']]\n",
    "countries.head(3)"
   ]
  },
  {
   "cell_type": "code",
   "execution_count": 9,
   "metadata": {
    "tags": []
   },
   "outputs": [
    {
     "data": {
      "text/html": [
       "<div>\n",
       "<style scoped>\n",
       "    .dataframe tbody tr th:only-of-type {\n",
       "        vertical-align: middle;\n",
       "    }\n",
       "\n",
       "    .dataframe tbody tr th {\n",
       "        vertical-align: top;\n",
       "    }\n",
       "\n",
       "    .dataframe thead th {\n",
       "        text-align: right;\n",
       "    }\n",
       "</style>\n",
       "<table border=\"1\" class=\"dataframe\">\n",
       "  <thead>\n",
       "    <tr style=\"text-align: right;\">\n",
       "      <th></th>\n",
       "      <th>name</th>\n",
       "      <th>population</th>\n",
       "      <th>country</th>\n",
       "      <th>geoname-id</th>\n",
       "      <th>geometry</th>\n",
       "    </tr>\n",
       "  </thead>\n",
       "  <tbody>\n",
       "    <tr>\n",
       "      <th>0</th>\n",
       "      <td>Udomlya</td>\n",
       "      <td>32373</td>\n",
       "      <td>RU</td>\n",
       "      <td>452949</td>\n",
       "      <td>POINT (34.99250 57.87944)</td>\n",
       "    </tr>\n",
       "    <tr>\n",
       "      <th>1</th>\n",
       "      <td>Valmiera</td>\n",
       "      <td>26963</td>\n",
       "      <td>LV</td>\n",
       "      <td>453754</td>\n",
       "      <td>POINT (25.42751 57.54108)</td>\n",
       "    </tr>\n",
       "    <tr>\n",
       "      <th>2</th>\n",
       "      <td>Ventspils</td>\n",
       "      <td>42644</td>\n",
       "      <td>LV</td>\n",
       "      <td>454310</td>\n",
       "      <td>POINT (21.57288 57.38988)</td>\n",
       "    </tr>\n",
       "  </tbody>\n",
       "</table>\n",
       "</div>"
      ],
      "text/plain": [
       "        name  population country  geoname-id                   geometry\n",
       "0    Udomlya       32373      RU      452949  POINT (34.99250 57.87944)\n",
       "1   Valmiera       26963      LV      453754  POINT (25.42751 57.54108)\n",
       "2  Ventspils       42644      LV      454310  POINT (21.57288 57.38988)"
      ]
     },
     "execution_count": 9,
     "metadata": {},
     "output_type": "execute_result"
    }
   ],
   "source": [
    "communities.head(3)"
   ]
  },
  {
   "cell_type": "code",
   "execution_count": 10,
   "metadata": {
    "tags": []
   },
   "outputs": [
    {
     "data": {
      "text/html": [
       "<div>\n",
       "<style scoped>\n",
       "    .dataframe tbody tr th:only-of-type {\n",
       "        vertical-align: middle;\n",
       "    }\n",
       "\n",
       "    .dataframe tbody tr th {\n",
       "        vertical-align: top;\n",
       "    }\n",
       "\n",
       "    .dataframe thead th {\n",
       "        text-align: right;\n",
       "    }\n",
       "</style>\n",
       "<table border=\"1\" class=\"dataframe\">\n",
       "  <thead>\n",
       "    <tr style=\"text-align: right;\">\n",
       "      <th></th>\n",
       "      <th>country</th>\n",
       "      <th>admin</th>\n",
       "    </tr>\n",
       "  </thead>\n",
       "  <tbody>\n",
       "    <tr>\n",
       "      <th>0</th>\n",
       "      <td>RU</td>\n",
       "      <td>Russia</td>\n",
       "    </tr>\n",
       "    <tr>\n",
       "      <th>1</th>\n",
       "      <td>LV</td>\n",
       "      <td>Latvia</td>\n",
       "    </tr>\n",
       "    <tr>\n",
       "      <th>2</th>\n",
       "      <td>EE</td>\n",
       "      <td>Estonia</td>\n",
       "    </tr>\n",
       "    <tr>\n",
       "      <th>3</th>\n",
       "      <td>LT</td>\n",
       "      <td>Lithuania</td>\n",
       "    </tr>\n",
       "    <tr>\n",
       "      <th>4</th>\n",
       "      <td>SE</td>\n",
       "      <td>Sweden</td>\n",
       "    </tr>\n",
       "    <tr>\n",
       "      <th>5</th>\n",
       "      <td>BY</td>\n",
       "      <td>Belarus</td>\n",
       "    </tr>\n",
       "    <tr>\n",
       "      <th>6</th>\n",
       "      <td>FI</td>\n",
       "      <td>Finland</td>\n",
       "    </tr>\n",
       "    <tr>\n",
       "      <th>7</th>\n",
       "      <td>NO</td>\n",
       "      <td>Norway</td>\n",
       "    </tr>\n",
       "    <tr>\n",
       "      <th>8</th>\n",
       "      <td>DK</td>\n",
       "      <td>Denmark</td>\n",
       "    </tr>\n",
       "    <tr>\n",
       "      <th>9</th>\n",
       "      <td>FO</td>\n",
       "      <td>Faroe Islands</td>\n",
       "    </tr>\n",
       "    <tr>\n",
       "      <th>10</th>\n",
       "      <td>IS</td>\n",
       "      <td>Iceland</td>\n",
       "    </tr>\n",
       "    <tr>\n",
       "      <th>11</th>\n",
       "      <td>GB</td>\n",
       "      <td>United Kingdom</td>\n",
       "    </tr>\n",
       "    <tr>\n",
       "      <th>12</th>\n",
       "      <td>AX</td>\n",
       "      <td>Aland Islands</td>\n",
       "    </tr>\n",
       "    <tr>\n",
       "      <th>13</th>\n",
       "      <td>GL</td>\n",
       "      <td>Greenland</td>\n",
       "    </tr>\n",
       "    <tr>\n",
       "      <th>14</th>\n",
       "      <td>US</td>\n",
       "      <td>United States of America</td>\n",
       "    </tr>\n",
       "    <tr>\n",
       "      <th>15</th>\n",
       "      <td>CA</td>\n",
       "      <td>Canada</td>\n",
       "    </tr>\n",
       "  </tbody>\n",
       "</table>\n",
       "</div>"
      ],
      "text/plain": [
       "   country                     admin\n",
       "0       RU                    Russia\n",
       "1       LV                    Latvia\n",
       "2       EE                   Estonia\n",
       "3       LT                 Lithuania\n",
       "4       SE                    Sweden\n",
       "5       BY                   Belarus\n",
       "6       FI                   Finland\n",
       "7       NO                    Norway\n",
       "8       DK                   Denmark\n",
       "9       FO             Faroe Islands\n",
       "10      IS                   Iceland\n",
       "11      GB            United Kingdom\n",
       "12      AX             Aland Islands\n",
       "13      GL                 Greenland\n",
       "14      US  United States of America\n",
       "15      CA                    Canada"
      ]
     },
     "execution_count": 10,
     "metadata": {},
     "output_type": "execute_result"
    }
   ],
   "source": [
    "country_names"
   ]
  },
  {
   "cell_type": "code",
   "execution_count": 11,
   "metadata": {
    "tags": []
   },
   "outputs": [
    {
     "data": {
      "text/plain": [
       "<Geographic 2D CRS: EPSG:4326>\n",
       "Name: WGS 84\n",
       "Axis Info [ellipsoidal]:\n",
       "- Lat[north]: Geodetic latitude (degree)\n",
       "- Lon[east]: Geodetic longitude (degree)\n",
       "Area of Use:\n",
       "- undefined\n",
       "Datum: World Geodetic System 1984\n",
       "- Ellipsoid: WGS 84\n",
       "- Prime Meridian: Greenwich"
      ]
     },
     "execution_count": 11,
     "metadata": {},
     "output_type": "execute_result"
    }
   ],
   "source": [
    "communities.crs"
   ]
  },
  {
   "cell_type": "code",
   "execution_count": 12,
   "metadata": {
    "tags": []
   },
   "outputs": [
    {
     "data": {
      "text/plain": [
       "<Geographic 2D CRS: GEOGCS[\"WGS 84\",DATUM[\"WGS_1984\",SPHEROID[\"WGS 84\" ...>\n",
       "Name: WGS 84\n",
       "Axis Info [ellipsoidal]:\n",
       "- lon[east]: Longitude (Degree)\n",
       "- lat[north]: Latitude (Degree)\n",
       "Area of Use:\n",
       "- undefined\n",
       "Datum: World Geodetic System 1984\n",
       "- Ellipsoid: WGS 84\n",
       "- Prime Meridian: Greenwich"
      ]
     },
     "execution_count": 12,
     "metadata": {},
     "output_type": "execute_result"
    }
   ],
   "source": [
    "countries.crs"
   ]
  },
  {
   "cell_type": "code",
   "execution_count": 13,
   "metadata": {
    "tags": []
   },
   "outputs": [
    {
     "data": {
      "text/plain": [
       "False"
      ]
     },
     "execution_count": 13,
     "metadata": {},
     "output_type": "execute_result"
    }
   ],
   "source": [
    "countries.crs == communities.crs"
   ]
  },
  {
   "cell_type": "code",
   "execution_count": 14,
   "metadata": {
    "tags": []
   },
   "outputs": [],
   "source": [
    "# Reprojecting countries to ensure CRS consistency\n",
    "countries = countries.to_crs(communities.crs)"
   ]
  },
  {
   "cell_type": "code",
   "execution_count": 16,
   "metadata": {
    "tags": []
   },
   "outputs": [
    {
     "data": {
      "image/png": "[encoded data removed]",
      "text/plain": [
       "<Figure size 640x480 with 1 Axes>"
      ]
     },
     "metadata": {},
     "output_type": "display_data"
    }
   ],
   "source": [
    "# plot the geospatial data\n",
    "\n",
    "assert countries.crs == communities.crs\n",
    "\n",
    "fig, ax = plt.subplots()\n",
    "countries.plot(ax=ax)\n",
    "communities.plot(ax=ax, color=\"coral\")\n",
    "plt.show()"
   ]
  },
  {
   "cell_type": "code",
   "execution_count": 22,
   "metadata": {
    "tags": []
   },
   "outputs": [],
   "source": [
    "# create a dataframe with the number of communities per country\n",
    "n_comms = (communities.groupby('country').size().reset_index(name='n_communities'))"
   ]
  },
  {
   "cell_type": "code",
   "execution_count": 23,
   "metadata": {
    "tags": []
   },
   "outputs": [
    {
     "data": {
      "text/plain": [
       "Index(['admin', 'type', 'geometry'], dtype='object')"
      ]
     },
     "execution_count": 23,
     "metadata": {},
     "output_type": "execute_result"
    }
   ],
   "source": [
    "countries.columns"
   ]
  },
  {
   "cell_type": "code",
   "execution_count": 24,
   "metadata": {
    "tags": []
   },
   "outputs": [
    {
     "data": {
      "text/plain": [
       "Index(['country', 'n_communities'], dtype='object')"
      ]
     },
     "execution_count": 24,
     "metadata": {},
     "output_type": "execute_result"
    }
   ],
   "source": [
    "n_comms.columns"
   ]
  },
  {
   "cell_type": "code",
   "execution_count": 25,
   "metadata": {
    "tags": []
   },
   "outputs": [
    {
     "data": {
      "text/plain": [
       "set()"
      ]
     },
     "execution_count": 25,
     "metadata": {},
     "output_type": "execute_result"
    }
   ],
   "source": [
    "# Find the intersection between country cols and n comms cols\n",
    "set(countries.columns).intersection(n_comms.columns)"
   ]
  },
  {
   "cell_type": "code",
   "execution_count": 26,
   "metadata": {
    "tags": []
   },
   "outputs": [
    {
     "data": {
      "text/html": [
       "<div>\n",
       "<style scoped>\n",
       "    .dataframe tbody tr th:only-of-type {\n",
       "        vertical-align: middle;\n",
       "    }\n",
       "\n",
       "    .dataframe tbody tr th {\n",
       "        vertical-align: top;\n",
       "    }\n",
       "\n",
       "    .dataframe thead th {\n",
       "        text-align: right;\n",
       "    }\n",
       "</style>\n",
       "<table border=\"1\" class=\"dataframe\">\n",
       "  <thead>\n",
       "    <tr style=\"text-align: right;\">\n",
       "      <th></th>\n",
       "      <th>country</th>\n",
       "      <th>n_communities</th>\n",
       "      <th>admin</th>\n",
       "    </tr>\n",
       "  </thead>\n",
       "  <tbody>\n",
       "    <tr>\n",
       "      <th>0</th>\n",
       "      <td>AX</td>\n",
       "      <td>1</td>\n",
       "      <td>Aland Islands</td>\n",
       "    </tr>\n",
       "    <tr>\n",
       "      <th>1</th>\n",
       "      <td>BY</td>\n",
       "      <td>8</td>\n",
       "      <td>Belarus</td>\n",
       "    </tr>\n",
       "    <tr>\n",
       "      <th>2</th>\n",
       "      <td>CA</td>\n",
       "      <td>7</td>\n",
       "      <td>Canada</td>\n",
       "    </tr>\n",
       "    <tr>\n",
       "      <th>3</th>\n",
       "      <td>DK</td>\n",
       "      <td>72</td>\n",
       "      <td>Denmark</td>\n",
       "    </tr>\n",
       "    <tr>\n",
       "      <th>4</th>\n",
       "      <td>EE</td>\n",
       "      <td>14</td>\n",
       "      <td>Estonia</td>\n",
       "    </tr>\n",
       "    <tr>\n",
       "      <th>5</th>\n",
       "      <td>FI</td>\n",
       "      <td>98</td>\n",
       "      <td>Finland</td>\n",
       "    </tr>\n",
       "    <tr>\n",
       "      <th>6</th>\n",
       "      <td>FO</td>\n",
       "      <td>1</td>\n",
       "      <td>Faroe Islands</td>\n",
       "    </tr>\n",
       "    <tr>\n",
       "      <th>7</th>\n",
       "      <td>GB</td>\n",
       "      <td>96</td>\n",
       "      <td>United Kingdom</td>\n",
       "    </tr>\n",
       "    <tr>\n",
       "      <th>8</th>\n",
       "      <td>GL</td>\n",
       "      <td>1</td>\n",
       "      <td>Greenland</td>\n",
       "    </tr>\n",
       "    <tr>\n",
       "      <th>9</th>\n",
       "      <td>IS</td>\n",
       "      <td>5</td>\n",
       "      <td>Iceland</td>\n",
       "    </tr>\n",
       "    <tr>\n",
       "      <th>10</th>\n",
       "      <td>LT</td>\n",
       "      <td>26</td>\n",
       "      <td>Lithuania</td>\n",
       "    </tr>\n",
       "    <tr>\n",
       "      <th>11</th>\n",
       "      <td>LV</td>\n",
       "      <td>25</td>\n",
       "      <td>Latvia</td>\n",
       "    </tr>\n",
       "    <tr>\n",
       "      <th>12</th>\n",
       "      <td>NO</td>\n",
       "      <td>48</td>\n",
       "      <td>Norway</td>\n",
       "    </tr>\n",
       "    <tr>\n",
       "      <th>13</th>\n",
       "      <td>RU</td>\n",
       "      <td>774</td>\n",
       "      <td>Russia</td>\n",
       "    </tr>\n",
       "    <tr>\n",
       "      <th>14</th>\n",
       "      <td>SE</td>\n",
       "      <td>133</td>\n",
       "      <td>Sweden</td>\n",
       "    </tr>\n",
       "    <tr>\n",
       "      <th>15</th>\n",
       "      <td>US</td>\n",
       "      <td>115</td>\n",
       "      <td>United States of America</td>\n",
       "    </tr>\n",
       "  </tbody>\n",
       "</table>\n",
       "</div>"
      ],
      "text/plain": [
       "   country  n_communities                     admin\n",
       "0       AX              1             Aland Islands\n",
       "1       BY              8                   Belarus\n",
       "2       CA              7                    Canada\n",
       "3       DK             72                   Denmark\n",
       "4       EE             14                   Estonia\n",
       "5       FI             98                   Finland\n",
       "6       FO              1             Faroe Islands\n",
       "7       GB             96            United Kingdom\n",
       "8       GL              1                 Greenland\n",
       "9       IS              5                   Iceland\n",
       "10      LT             26                 Lithuania\n",
       "11      LV             25                    Latvia\n",
       "12      NO             48                    Norway\n",
       "13      RU            774                    Russia\n",
       "14      SE            133                    Sweden\n",
       "15      US            115  United States of America"
      ]
     },
     "execution_count": 26,
     "metadata": {},
     "output_type": "execute_result"
    }
   ],
   "source": [
    "n_comms = pd.merge(n_comms,\n",
    "                  country_names,\n",
    "                  how='left',\n",
    "                  on='country')\n",
    "n_comms"
   ]
  },
  {
   "cell_type": "code",
   "execution_count": 29,
   "metadata": {
    "tags": []
   },
   "outputs": [
    {
     "data": {
      "text/html": [
       "<div>\n",
       "<style scoped>\n",
       "    .dataframe tbody tr th:only-of-type {\n",
       "        vertical-align: middle;\n",
       "    }\n",
       "\n",
       "    .dataframe tbody tr th {\n",
       "        vertical-align: top;\n",
       "    }\n",
       "\n",
       "    .dataframe thead th {\n",
       "        text-align: right;\n",
       "    }\n",
       "</style>\n",
       "<table border=\"1\" class=\"dataframe\">\n",
       "  <thead>\n",
       "    <tr style=\"text-align: right;\">\n",
       "      <th></th>\n",
       "      <th>admin</th>\n",
       "      <th>type</th>\n",
       "      <th>geometry</th>\n",
       "      <th>country</th>\n",
       "      <th>n_communities</th>\n",
       "    </tr>\n",
       "  </thead>\n",
       "  <tbody>\n",
       "    <tr>\n",
       "      <th>0</th>\n",
       "      <td>United States of America</td>\n",
       "      <td>Country</td>\n",
       "      <td>MULTIPOLYGON (((-132.74687 56.52568, -132.7576...</td>\n",
       "      <td>US</td>\n",
       "      <td>115</td>\n",
       "    </tr>\n",
       "    <tr>\n",
       "      <th>1</th>\n",
       "      <td>United Kingdom</td>\n",
       "      <td>Country</td>\n",
       "      <td>MULTIPOLYGON (((-2.66768 51.62300, -2.74214 51...</td>\n",
       "      <td>GB</td>\n",
       "      <td>96</td>\n",
       "    </tr>\n",
       "    <tr>\n",
       "      <th>2</th>\n",
       "      <td>Sweden</td>\n",
       "      <td>Sovereign country</td>\n",
       "      <td>MULTIPOLYGON (((19.07646 57.83594, 18.99375 57...</td>\n",
       "      <td>SE</td>\n",
       "      <td>133</td>\n",
       "    </tr>\n",
       "    <tr>\n",
       "      <th>3</th>\n",
       "      <td>Russia</td>\n",
       "      <td>Sovereign country</td>\n",
       "      <td>MULTIPOLYGON (((145.88154 43.45952, 145.89561 ...</td>\n",
       "      <td>RU</td>\n",
       "      <td>774</td>\n",
       "    </tr>\n",
       "    <tr>\n",
       "      <th>4</th>\n",
       "      <td>Norway</td>\n",
       "      <td>Sovereign country</td>\n",
       "      <td>MULTIPOLYGON (((20.62217 69.03687, 20.49199 69...</td>\n",
       "      <td>NO</td>\n",
       "      <td>48</td>\n",
       "    </tr>\n",
       "    <tr>\n",
       "      <th>5</th>\n",
       "      <td>Lithuania</td>\n",
       "      <td>Sovereign country</td>\n",
       "      <td>MULTIPOLYGON (((20.95781 55.27891, 20.89980 55...</td>\n",
       "      <td>LT</td>\n",
       "      <td>26</td>\n",
       "    </tr>\n",
       "    <tr>\n",
       "      <th>6</th>\n",
       "      <td>Latvia</td>\n",
       "      <td>Sovereign country</td>\n",
       "      <td>POLYGON ((26.59355 55.66753, 26.54287 55.67241...</td>\n",
       "      <td>LV</td>\n",
       "      <td>25</td>\n",
       "    </tr>\n",
       "    <tr>\n",
       "      <th>7</th>\n",
       "      <td>Iceland</td>\n",
       "      <td>Sovereign country</td>\n",
       "      <td>POLYGON ((-15.54312 66.22852, -15.42847 66.224...</td>\n",
       "      <td>IS</td>\n",
       "      <td>5</td>\n",
       "    </tr>\n",
       "    <tr>\n",
       "      <th>8</th>\n",
       "      <td>Finland</td>\n",
       "      <td>Country</td>\n",
       "      <td>MULTIPOLYGON (((24.15547 65.80527, 24.04902 65...</td>\n",
       "      <td>FI</td>\n",
       "      <td>98</td>\n",
       "    </tr>\n",
       "    <tr>\n",
       "      <th>9</th>\n",
       "      <td>Estonia</td>\n",
       "      <td>Sovereign country</td>\n",
       "      <td>MULTIPOLYGON (((27.35195 57.52812, 27.32656 57...</td>\n",
       "      <td>EE</td>\n",
       "      <td>14</td>\n",
       "    </tr>\n",
       "    <tr>\n",
       "      <th>10</th>\n",
       "      <td>Greenland</td>\n",
       "      <td>Country</td>\n",
       "      <td>MULTIPOLYGON (((-29.95288 83.56484, -28.99199 ...</td>\n",
       "      <td>GL</td>\n",
       "      <td>1</td>\n",
       "    </tr>\n",
       "    <tr>\n",
       "      <th>11</th>\n",
       "      <td>Faroe Islands</td>\n",
       "      <td>Dependency</td>\n",
       "      <td>MULTIPOLYGON (((-6.62319 61.80596, -6.64277 61...</td>\n",
       "      <td>FO</td>\n",
       "      <td>1</td>\n",
       "    </tr>\n",
       "    <tr>\n",
       "      <th>12</th>\n",
       "      <td>Denmark</td>\n",
       "      <td>Country</td>\n",
       "      <td>MULTIPOLYGON (((12.56875 55.78506, 12.57119 55...</td>\n",
       "      <td>DK</td>\n",
       "      <td>72</td>\n",
       "    </tr>\n",
       "    <tr>\n",
       "      <th>13</th>\n",
       "      <td>Canada</td>\n",
       "      <td>Sovereign country</td>\n",
       "      <td>MULTIPOLYGON (((-132.65552 54.12749, -132.5640...</td>\n",
       "      <td>CA</td>\n",
       "      <td>7</td>\n",
       "    </tr>\n",
       "    <tr>\n",
       "      <th>14</th>\n",
       "      <td>Belarus</td>\n",
       "      <td>Sovereign country</td>\n",
       "      <td>POLYGON ((31.76338 52.10107, 31.57373 52.10811...</td>\n",
       "      <td>BY</td>\n",
       "      <td>8</td>\n",
       "    </tr>\n",
       "  </tbody>\n",
       "</table>\n",
       "</div>"
      ],
      "text/plain": [
       "                       admin               type  \\\n",
       "0   United States of America            Country   \n",
       "1             United Kingdom            Country   \n",
       "2                     Sweden  Sovereign country   \n",
       "3                     Russia  Sovereign country   \n",
       "4                     Norway  Sovereign country   \n",
       "5                  Lithuania  Sovereign country   \n",
       "6                     Latvia  Sovereign country   \n",
       "7                    Iceland  Sovereign country   \n",
       "8                    Finland            Country   \n",
       "9                    Estonia  Sovereign country   \n",
       "10                 Greenland            Country   \n",
       "11             Faroe Islands         Dependency   \n",
       "12                   Denmark            Country   \n",
       "13                    Canada  Sovereign country   \n",
       "14                   Belarus  Sovereign country   \n",
       "\n",
       "                                             geometry country  n_communities  \n",
       "0   MULTIPOLYGON (((-132.74687 56.52568, -132.7576...      US            115  \n",
       "1   MULTIPOLYGON (((-2.66768 51.62300, -2.74214 51...      GB             96  \n",
       "2   MULTIPOLYGON (((19.07646 57.83594, 18.99375 57...      SE            133  \n",
       "3   MULTIPOLYGON (((145.88154 43.45952, 145.89561 ...      RU            774  \n",
       "4   MULTIPOLYGON (((20.62217 69.03687, 20.49199 69...      NO             48  \n",
       "5   MULTIPOLYGON (((20.95781 55.27891, 20.89980 55...      LT             26  \n",
       "6   POLYGON ((26.59355 55.66753, 26.54287 55.67241...      LV             25  \n",
       "7   POLYGON ((-15.54312 66.22852, -15.42847 66.224...      IS              5  \n",
       "8   MULTIPOLYGON (((24.15547 65.80527, 24.04902 65...      FI             98  \n",
       "9   MULTIPOLYGON (((27.35195 57.52812, 27.32656 57...      EE             14  \n",
       "10  MULTIPOLYGON (((-29.95288 83.56484, -28.99199 ...      GL              1  \n",
       "11  MULTIPOLYGON (((-6.62319 61.80596, -6.64277 61...      FO              1  \n",
       "12  MULTIPOLYGON (((12.56875 55.78506, 12.57119 55...      DK             72  \n",
       "13  MULTIPOLYGON (((-132.65552 54.12749, -132.5640...      CA              7  \n",
       "14  POLYGON ((31.76338 52.10107, 31.57373 52.10811...      BY              8  "
      ]
     },
     "execution_count": 29,
     "metadata": {},
     "output_type": "execute_result"
    }
   ],
   "source": [
    "# Merge the data frames\n",
    "arctic_countries = pd.merge(countries, \n",
    "                           n_comms,\n",
    "                           how = 'inner',\n",
    "                           on = 'admin')\n",
    "arctic_countries"
   ]
  },
  {
   "cell_type": "code",
   "execution_count": 31,
   "metadata": {
    "tags": []
   },
   "outputs": [
    {
     "data": {
      "text/plain": [
       "False"
      ]
     },
     "execution_count": 31,
     "metadata": {},
     "output_type": "execute_result"
    }
   ],
   "source": [
    "# Check Aland Islands is nowhere in countries df\n",
    "'Aland Islands' in countries.values"
   ]
  },
  {
   "cell_type": "code",
   "execution_count": 34,
   "metadata": {
    "tags": []
   },
   "outputs": [],
   "source": [
    "arctic_countries = arctic_countries.set_index('admin')"
   ]
  },
  {
   "cell_type": "code",
   "execution_count": 35,
   "metadata": {
    "tags": []
   },
   "outputs": [
    {
     "data": {
      "text/html": [
       "<div>\n",
       "<style scoped>\n",
       "    .dataframe tbody tr th:only-of-type {\n",
       "        vertical-align: middle;\n",
       "    }\n",
       "\n",
       "    .dataframe tbody tr th {\n",
       "        vertical-align: top;\n",
       "    }\n",
       "\n",
       "    .dataframe thead th {\n",
       "        text-align: right;\n",
       "    }\n",
       "</style>\n",
       "<table border=\"1\" class=\"dataframe\">\n",
       "  <thead>\n",
       "    <tr style=\"text-align: right;\">\n",
       "      <th></th>\n",
       "      <th>type</th>\n",
       "      <th>geometry</th>\n",
       "      <th>country</th>\n",
       "      <th>n_communities</th>\n",
       "    </tr>\n",
       "    <tr>\n",
       "      <th>admin</th>\n",
       "      <th></th>\n",
       "      <th></th>\n",
       "      <th></th>\n",
       "      <th></th>\n",
       "    </tr>\n",
       "  </thead>\n",
       "  <tbody>\n",
       "    <tr>\n",
       "      <th>United States of America</th>\n",
       "      <td>Country</td>\n",
       "      <td>MULTIPOLYGON (((-132.74687 56.52568, -132.7576...</td>\n",
       "      <td>US</td>\n",
       "      <td>115</td>\n",
       "    </tr>\n",
       "    <tr>\n",
       "      <th>United Kingdom</th>\n",
       "      <td>Country</td>\n",
       "      <td>MULTIPOLYGON (((-2.66768 51.62300, -2.74214 51...</td>\n",
       "      <td>GB</td>\n",
       "      <td>96</td>\n",
       "    </tr>\n",
       "    <tr>\n",
       "      <th>Sweden</th>\n",
       "      <td>Sovereign country</td>\n",
       "      <td>MULTIPOLYGON (((19.07646 57.83594, 18.99375 57...</td>\n",
       "      <td>SE</td>\n",
       "      <td>133</td>\n",
       "    </tr>\n",
       "    <tr>\n",
       "      <th>Russia</th>\n",
       "      <td>Sovereign country</td>\n",
       "      <td>MULTIPOLYGON (((145.88154 43.45952, 145.89561 ...</td>\n",
       "      <td>RU</td>\n",
       "      <td>774</td>\n",
       "    </tr>\n",
       "    <tr>\n",
       "      <th>Norway</th>\n",
       "      <td>Sovereign country</td>\n",
       "      <td>MULTIPOLYGON (((20.62217 69.03687, 20.49199 69...</td>\n",
       "      <td>NO</td>\n",
       "      <td>48</td>\n",
       "    </tr>\n",
       "    <tr>\n",
       "      <th>Lithuania</th>\n",
       "      <td>Sovereign country</td>\n",
       "      <td>MULTIPOLYGON (((20.95781 55.27891, 20.89980 55...</td>\n",
       "      <td>LT</td>\n",
       "      <td>26</td>\n",
       "    </tr>\n",
       "    <tr>\n",
       "      <th>Latvia</th>\n",
       "      <td>Sovereign country</td>\n",
       "      <td>POLYGON ((26.59355 55.66753, 26.54287 55.67241...</td>\n",
       "      <td>LV</td>\n",
       "      <td>25</td>\n",
       "    </tr>\n",
       "    <tr>\n",
       "      <th>Iceland</th>\n",
       "      <td>Sovereign country</td>\n",
       "      <td>POLYGON ((-15.54312 66.22852, -15.42847 66.224...</td>\n",
       "      <td>IS</td>\n",
       "      <td>5</td>\n",
       "    </tr>\n",
       "    <tr>\n",
       "      <th>Finland</th>\n",
       "      <td>Country</td>\n",
       "      <td>MULTIPOLYGON (((24.15547 65.80527, 24.04902 65...</td>\n",
       "      <td>FI</td>\n",
       "      <td>99</td>\n",
       "    </tr>\n",
       "    <tr>\n",
       "      <th>Estonia</th>\n",
       "      <td>Sovereign country</td>\n",
       "      <td>MULTIPOLYGON (((27.35195 57.52812, 27.32656 57...</td>\n",
       "      <td>EE</td>\n",
       "      <td>14</td>\n",
       "    </tr>\n",
       "    <tr>\n",
       "      <th>Greenland</th>\n",
       "      <td>Country</td>\n",
       "      <td>MULTIPOLYGON (((-29.95288 83.56484, -28.99199 ...</td>\n",
       "      <td>GL</td>\n",
       "      <td>1</td>\n",
       "    </tr>\n",
       "    <tr>\n",
       "      <th>Faroe Islands</th>\n",
       "      <td>Dependency</td>\n",
       "      <td>MULTIPOLYGON (((-6.62319 61.80596, -6.64277 61...</td>\n",
       "      <td>FO</td>\n",
       "      <td>1</td>\n",
       "    </tr>\n",
       "    <tr>\n",
       "      <th>Denmark</th>\n",
       "      <td>Country</td>\n",
       "      <td>MULTIPOLYGON (((12.56875 55.78506, 12.57119 55...</td>\n",
       "      <td>DK</td>\n",
       "      <td>72</td>\n",
       "    </tr>\n",
       "    <tr>\n",
       "      <th>Canada</th>\n",
       "      <td>Sovereign country</td>\n",
       "      <td>MULTIPOLYGON (((-132.65552 54.12749, -132.5640...</td>\n",
       "      <td>CA</td>\n",
       "      <td>7</td>\n",
       "    </tr>\n",
       "    <tr>\n",
       "      <th>Belarus</th>\n",
       "      <td>Sovereign country</td>\n",
       "      <td>POLYGON ((31.76338 52.10107, 31.57373 52.10811...</td>\n",
       "      <td>BY</td>\n",
       "      <td>8</td>\n",
       "    </tr>\n",
       "  </tbody>\n",
       "</table>\n",
       "</div>"
      ],
      "text/plain": [
       "                                       type  \\\n",
       "admin                                         \n",
       "United States of America            Country   \n",
       "United Kingdom                      Country   \n",
       "Sweden                    Sovereign country   \n",
       "Russia                    Sovereign country   \n",
       "Norway                    Sovereign country   \n",
       "Lithuania                 Sovereign country   \n",
       "Latvia                    Sovereign country   \n",
       "Iceland                   Sovereign country   \n",
       "Finland                             Country   \n",
       "Estonia                   Sovereign country   \n",
       "Greenland                           Country   \n",
       "Faroe Islands                    Dependency   \n",
       "Denmark                             Country   \n",
       "Canada                    Sovereign country   \n",
       "Belarus                   Sovereign country   \n",
       "\n",
       "                                                                   geometry  \\\n",
       "admin                                                                         \n",
       "United States of America  MULTIPOLYGON (((-132.74687 56.52568, -132.7576...   \n",
       "United Kingdom            MULTIPOLYGON (((-2.66768 51.62300, -2.74214 51...   \n",
       "Sweden                    MULTIPOLYGON (((19.07646 57.83594, 18.99375 57...   \n",
       "Russia                    MULTIPOLYGON (((145.88154 43.45952, 145.89561 ...   \n",
       "Norway                    MULTIPOLYGON (((20.62217 69.03687, 20.49199 69...   \n",
       "Lithuania                 MULTIPOLYGON (((20.95781 55.27891, 20.89980 55...   \n",
       "Latvia                    POLYGON ((26.59355 55.66753, 26.54287 55.67241...   \n",
       "Iceland                   POLYGON ((-15.54312 66.22852, -15.42847 66.224...   \n",
       "Finland                   MULTIPOLYGON (((24.15547 65.80527, 24.04902 65...   \n",
       "Estonia                   MULTIPOLYGON (((27.35195 57.52812, 27.32656 57...   \n",
       "Greenland                 MULTIPOLYGON (((-29.95288 83.56484, -28.99199 ...   \n",
       "Faroe Islands             MULTIPOLYGON (((-6.62319 61.80596, -6.64277 61...   \n",
       "Denmark                   MULTIPOLYGON (((12.56875 55.78506, 12.57119 55...   \n",
       "Canada                    MULTIPOLYGON (((-132.65552 54.12749, -132.5640...   \n",
       "Belarus                   POLYGON ((31.76338 52.10107, 31.57373 52.10811...   \n",
       "\n",
       "                         country  n_communities  \n",
       "admin                                            \n",
       "United States of America      US            115  \n",
       "United Kingdom                GB             96  \n",
       "Sweden                        SE            133  \n",
       "Russia                        RU            774  \n",
       "Norway                        NO             48  \n",
       "Lithuania                     LT             26  \n",
       "Latvia                        LV             25  \n",
       "Iceland                       IS              5  \n",
       "Finland                       FI             99  \n",
       "Estonia                       EE             14  \n",
       "Greenland                     GL              1  \n",
       "Faroe Islands                 FO              1  \n",
       "Denmark                       DK             72  \n",
       "Canada                        CA              7  \n",
       "Belarus                       BY              8  "
      ]
     },
     "execution_count": 35,
     "metadata": {},
     "output_type": "execute_result"
    }
   ],
   "source": [
    "arctic_countries"
   ]
  },
  {
   "cell_type": "code",
   "execution_count": 36,
   "metadata": {
    "tags": []
   },
   "outputs": [],
   "source": [
    "arctic_countries.at['Finland', 'n_communities'] += 1"
   ]
  },
  {
   "cell_type": "code",
   "execution_count": 38,
   "metadata": {
    "tags": []
   },
   "outputs": [
    {
     "data": {
      "text/plain": [
       "<Axes: >"
      ]
     },
     "execution_count": 38,
     "metadata": {},
     "output_type": "execute_result"
    },
    {
     "data": {
      "image/png": "[encoded data removed]",
      "text/plain": [
       "<Figure size 640x480 with 2 Axes>"
      ]
     },
     "metadata": {},
     "output_type": "display_data"
    }
   ],
   "source": [
    "# Choropleth map\n",
    "\n",
    "arctic_countries.plot(column='n_communities',\n",
    "                     legend=True)"
   ]
  },
  {
   "cell_type": "code",
   "execution_count": 39,
   "metadata": {
    "tags": []
   },
   "outputs": [],
   "source": [
    "# Reproject to a CRS that is optimized for the arctic region\n",
    "arctic_countries = arctic_countries.to_crs('epsg:3413')"
   ]
  },
  {
   "cell_type": "code",
   "execution_count": 40,
   "metadata": {
    "tags": []
   },
   "outputs": [
    {
     "data": {
      "text/plain": [
       "<Axes: >"
      ]
     },
     "execution_count": 40,
     "metadata": {},
     "output_type": "execute_result"
    },
    {
     "data": {
      "image/png": "[encoded data removed]",
      "text/plain": [
       "<Figure size 640x480 with 2 Axes>"
      ]
     },
     "metadata": {},
     "output_type": "display_data"
    }
   ],
   "source": [
    "arctic_countries.plot(column='n_communities',\n",
    "                     legend=True)"
   ]
  },
  {
   "cell_type": "code",
   "execution_count": null,
   "metadata": {},
   "outputs": [],
   "source": []
  }
 ],
 "metadata": {
  "kernelspec": {
   "display_name": "Anaconda 3 (EDS220)",
   "language": "python",
   "name": "eds220-env"
  },
  "language_info": {
   "codemirror_mode": {
    "name": "ipython",
    "version": 3
   },
   "file_extension": ".py",
   "mimetype": "text/x-python",
   "name": "python",
   "nbconvert_exporter": "python",
   "pygments_lexer": "ipython3",
   "version": "3.11.4"
  },
  "vscode": {
   "interpreter": {
    "hash": "0f97f47f74ab0b040131b6681dd542ab9cd7e1dcd971bc09e899dabc517362fa"
   }
  }
 },
 "nbformat": 4,
 "nbformat_minor": 4
}
