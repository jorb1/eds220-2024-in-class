{
 "cells": [
  {
   "cell_type": "code",
   "execution_count": 2,
   "id": "fc1c547e-dff1-41f7-9caa-5b15099d5c4f",
   "metadata": {
    "tags": []
   },
   "outputs": [],
   "source": [
    "import pandas as pd\n",
    "from pandas.api.types import is_string_dtype, is_numeric_dtype\n",
    "import geopandas as gpd\n",
    "import matplotlib.pyplot as plt\n",
    "import os"
   ]
  },
  {
   "cell_type": "code",
   "execution_count": 3,
   "id": "4c459edc-55d6-4b63-8b0e-7f7e771e7383",
   "metadata": {
    "tags": []
   },
   "outputs": [],
   "source": [
    "url = \"https://raw.githubusercontent.com/carmengg/eds220-hwk-1/main/data/earthquake_data.csv\"\n",
    "\n",
    "earthquakes = pd.read_csv(url)"
   ]
  },
  {
   "cell_type": "code",
   "execution_count": 4,
   "id": "3e2f52dd-f91c-4d03-a873-39305d28eb6d",
   "metadata": {
    "tags": []
   },
   "outputs": [
    {
     "data": {
      "text/plain": [
       "'/Users/bjorgensen/MEDS/EDS-220/eds220-2024-in-class'"
      ]
     },
     "execution_count": 4,
     "metadata": {},
     "output_type": "execute_result"
    }
   ],
   "source": [
    "os.getcwd()"
   ]
  },
  {
   "cell_type": "code",
   "execution_count": 5,
   "id": "1f7667f5-020f-42a2-832b-31ab57494e60",
   "metadata": {
    "tags": []
   },
   "outputs": [
    {
     "name": "stderr",
     "output_type": "stream",
     "text": [
      "ERROR 1: PROJ: proj_create_from_database: Open of /opt/anaconda3/share/proj failed\n"
     ]
    }
   ],
   "source": [
    "fp = os.path.join('~', \n",
    "                  'MEDS', \n",
    "                  'EDS-220', \n",
    "                  'eds220-2024-in-class', \n",
    "                  'data', \n",
    "                  'ne_110m_admin_0_countries.shp')\n",
    "\n",
    "countries = gpd.read_file(fp)"
   ]
  },
  {
   "cell_type": "code",
   "execution_count": 6,
   "id": "bf49eaee-c299-4b88-9b6f-af12ae1c5b99",
   "metadata": {
    "tags": []
   },
   "outputs": [
    {
     "data": {
      "text/plain": [
       "time         datetime64[ns]\n",
       "latitude            float64\n",
       "longitude           float64\n",
       "depth               float64\n",
       "mag                 float64\n",
       "id                   object\n",
       "place                object\n",
       "type                 object\n",
       "dtype: object"
      ]
     },
     "execution_count": 6,
     "metadata": {},
     "output_type": "execute_result"
    }
   ],
   "source": [
    "# We have to make date a date time object\n",
    "\n",
    "earthquakes['time'] = pd.to_datetime(earthquakes.time)\n",
    "earthquakes.dtypes"
   ]
  },
  {
   "cell_type": "code",
   "execution_count": 7,
   "id": "e9e89de1-0416-4c20-ae55-366f7a0a6d66",
   "metadata": {
    "tags": []
   },
   "outputs": [
    {
     "data": {
      "text/html": [
       "<div>\n",
       "<style scoped>\n",
       "    .dataframe tbody tr th:only-of-type {\n",
       "        vertical-align: middle;\n",
       "    }\n",
       "\n",
       "    .dataframe tbody tr th {\n",
       "        vertical-align: top;\n",
       "    }\n",
       "\n",
       "    .dataframe thead th {\n",
       "        text-align: right;\n",
       "    }\n",
       "</style>\n",
       "<table border=\"1\" class=\"dataframe\">\n",
       "  <thead>\n",
       "    <tr style=\"text-align: right;\">\n",
       "      <th></th>\n",
       "      <th>latitude</th>\n",
       "      <th>longitude</th>\n",
       "      <th>depth</th>\n",
       "      <th>mag</th>\n",
       "      <th>id</th>\n",
       "      <th>place</th>\n",
       "      <th>type</th>\n",
       "    </tr>\n",
       "    <tr>\n",
       "      <th>time</th>\n",
       "      <th></th>\n",
       "      <th></th>\n",
       "      <th></th>\n",
       "      <th></th>\n",
       "      <th></th>\n",
       "      <th></th>\n",
       "      <th></th>\n",
       "    </tr>\n",
       "  </thead>\n",
       "  <tbody>\n",
       "    <tr>\n",
       "      <th>2014-01-31 23:53:37.000</th>\n",
       "      <td>60.252000</td>\n",
       "      <td>-152.708100</td>\n",
       "      <td>90.20</td>\n",
       "      <td>1.10</td>\n",
       "      <td>ak11155107</td>\n",
       "      <td>26km S of Redoubt Volcano, Alaska</td>\n",
       "      <td>earthquake</td>\n",
       "    </tr>\n",
       "    <tr>\n",
       "      <th>2014-01-31 23:48:35.452</th>\n",
       "      <td>37.070300</td>\n",
       "      <td>-115.130900</td>\n",
       "      <td>0.00</td>\n",
       "      <td>1.33</td>\n",
       "      <td>nn00436847</td>\n",
       "      <td>32km S of Alamo, Nevada</td>\n",
       "      <td>earthquake</td>\n",
       "    </tr>\n",
       "    <tr>\n",
       "      <th>2014-01-31 23:47:24.000</th>\n",
       "      <td>64.671700</td>\n",
       "      <td>-149.252800</td>\n",
       "      <td>7.10</td>\n",
       "      <td>1.30</td>\n",
       "      <td>ak11151142</td>\n",
       "      <td>12km NNW of North Nenana, Alaska</td>\n",
       "      <td>earthquake</td>\n",
       "    </tr>\n",
       "    <tr>\n",
       "      <th>2014-01-31 23:30:54.000</th>\n",
       "      <td>63.188700</td>\n",
       "      <td>-148.957500</td>\n",
       "      <td>96.50</td>\n",
       "      <td>0.80</td>\n",
       "      <td>ak11151135</td>\n",
       "      <td>22km S of Cantwell, Alaska</td>\n",
       "      <td>earthquake</td>\n",
       "    </tr>\n",
       "    <tr>\n",
       "      <th>2014-01-31 23:30:52.210</th>\n",
       "      <td>32.616833</td>\n",
       "      <td>-115.692500</td>\n",
       "      <td>10.59</td>\n",
       "      <td>1.34</td>\n",
       "      <td>ci37171541</td>\n",
       "      <td>10km WNW of Progreso, Mexico</td>\n",
       "      <td>earthquake</td>\n",
       "    </tr>\n",
       "    <tr>\n",
       "      <th>...</th>\n",
       "      <td>...</td>\n",
       "      <td>...</td>\n",
       "      <td>...</td>\n",
       "      <td>...</td>\n",
       "      <td>...</td>\n",
       "      <td>...</td>\n",
       "      <td>...</td>\n",
       "    </tr>\n",
       "    <tr>\n",
       "      <th>2014-12-01 00:10:16.000</th>\n",
       "      <td>60.963900</td>\n",
       "      <td>-146.762900</td>\n",
       "      <td>14.80</td>\n",
       "      <td>3.80</td>\n",
       "      <td>ak11453391</td>\n",
       "      <td>29km SW of Valdez, Alaska</td>\n",
       "      <td>earthquake</td>\n",
       "    </tr>\n",
       "    <tr>\n",
       "      <th>2014-12-01 00:09:39.000</th>\n",
       "      <td>58.869100</td>\n",
       "      <td>-154.415900</td>\n",
       "      <td>108.40</td>\n",
       "      <td>2.40</td>\n",
       "      <td>ak11453395</td>\n",
       "      <td>102km SSE of Old Iliamna, Alaska</td>\n",
       "      <td>earthquake</td>\n",
       "    </tr>\n",
       "    <tr>\n",
       "      <th>2014-12-01 00:09:25.350</th>\n",
       "      <td>38.843498</td>\n",
       "      <td>-122.825836</td>\n",
       "      <td>2.37</td>\n",
       "      <td>0.43</td>\n",
       "      <td>nc72358451</td>\n",
       "      <td>9km WNW of Cobb, California</td>\n",
       "      <td>earthquake</td>\n",
       "    </tr>\n",
       "    <tr>\n",
       "      <th>2014-12-01 00:05:54.000</th>\n",
       "      <td>65.152100</td>\n",
       "      <td>-148.992000</td>\n",
       "      <td>9.50</td>\n",
       "      <td>0.40</td>\n",
       "      <td>ak11453390</td>\n",
       "      <td>57km NW of Ester, Alaska</td>\n",
       "      <td>earthquake</td>\n",
       "    </tr>\n",
       "    <tr>\n",
       "      <th>2014-12-01 00:04:05.000</th>\n",
       "      <td>60.227200</td>\n",
       "      <td>-147.024500</td>\n",
       "      <td>2.50</td>\n",
       "      <td>1.60</td>\n",
       "      <td>ak11453389</td>\n",
       "      <td>78km WSW of Cordova, Alaska</td>\n",
       "      <td>earthquake</td>\n",
       "    </tr>\n",
       "  </tbody>\n",
       "</table>\n",
       "<p>120108 rows × 7 columns</p>\n",
       "</div>"
      ],
      "text/plain": [
       "                          latitude   longitude   depth   mag          id  \\\n",
       "time                                                                       \n",
       "2014-01-31 23:53:37.000  60.252000 -152.708100   90.20  1.10  ak11155107   \n",
       "2014-01-31 23:48:35.452  37.070300 -115.130900    0.00  1.33  nn00436847   \n",
       "2014-01-31 23:47:24.000  64.671700 -149.252800    7.10  1.30  ak11151142   \n",
       "2014-01-31 23:30:54.000  63.188700 -148.957500   96.50  0.80  ak11151135   \n",
       "2014-01-31 23:30:52.210  32.616833 -115.692500   10.59  1.34  ci37171541   \n",
       "...                            ...         ...     ...   ...         ...   \n",
       "2014-12-01 00:10:16.000  60.963900 -146.762900   14.80  3.80  ak11453391   \n",
       "2014-12-01 00:09:39.000  58.869100 -154.415900  108.40  2.40  ak11453395   \n",
       "2014-12-01 00:09:25.350  38.843498 -122.825836    2.37  0.43  nc72358451   \n",
       "2014-12-01 00:05:54.000  65.152100 -148.992000    9.50  0.40  ak11453390   \n",
       "2014-12-01 00:04:05.000  60.227200 -147.024500    2.50  1.60  ak11453389   \n",
       "\n",
       "                                                     place        type  \n",
       "time                                                                    \n",
       "2014-01-31 23:53:37.000  26km S of Redoubt Volcano, Alaska  earthquake  \n",
       "2014-01-31 23:48:35.452            32km S of Alamo, Nevada  earthquake  \n",
       "2014-01-31 23:47:24.000   12km NNW of North Nenana, Alaska  earthquake  \n",
       "2014-01-31 23:30:54.000         22km S of Cantwell, Alaska  earthquake  \n",
       "2014-01-31 23:30:52.210       10km WNW of Progreso, Mexico  earthquake  \n",
       "...                                                    ...         ...  \n",
       "2014-12-01 00:10:16.000          29km SW of Valdez, Alaska  earthquake  \n",
       "2014-12-01 00:09:39.000   102km SSE of Old Iliamna, Alaska  earthquake  \n",
       "2014-12-01 00:09:25.350        9km WNW of Cobb, California  earthquake  \n",
       "2014-12-01 00:05:54.000           57km NW of Ester, Alaska  earthquake  \n",
       "2014-12-01 00:04:05.000        78km WSW of Cordova, Alaska  earthquake  \n",
       "\n",
       "[120108 rows x 7 columns]"
      ]
     },
     "execution_count": 7,
     "metadata": {},
     "output_type": "execute_result"
    }
   ],
   "source": [
    "# Set earthquakes to be the index\n",
    "earthquakes = earthquakes.set_index('time')\n",
    "\n",
    "# Filter data to be only 2014\n",
    "\n",
    "earthquakes.loc['2014']"
   ]
  },
  {
   "cell_type": "code",
   "execution_count": null,
   "id": "6c09c8c3-9a4a-49a9-92b1-1b4408052241",
   "metadata": {},
   "outputs": [],
   "source": []
  }
 ],
 "metadata": {
  "kernelspec": {
   "display_name": "Anaconda 3 (Base)",
   "language": "python",
   "name": "base"
  },
  "language_info": {
   "codemirror_mode": {
    "name": "ipython",
    "version": 3
   },
   "file_extension": ".py",
   "mimetype": "text/x-python",
   "name": "python",
   "nbconvert_exporter": "python",
   "pygments_lexer": "ipython3",
   "version": "3.9.13"
  }
 },
 "nbformat": 4,
 "nbformat_minor": 5
}
