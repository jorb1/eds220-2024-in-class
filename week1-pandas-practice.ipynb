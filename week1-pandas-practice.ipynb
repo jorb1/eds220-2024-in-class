{
 "cells": [
  {
   "cell_type": "code",
   "execution_count": 1,
   "id": "e5682464-6d4a-487e-8ff4-090d6fb0242f",
   "metadata": {
    "tags": []
   },
   "outputs": [],
   "source": [
    "import pandas as pd\n",
    "import numpy as np"
   ]
  },
  {
   "cell_type": "code",
   "execution_count": 2,
   "id": "06fa2e51-bef5-4045-9ebb-da4b531a056d",
   "metadata": {
    "tags": []
   },
   "outputs": [
    {
     "name": "stdout",
     "output_type": "stream",
     "text": [
      "<class 'numpy.ndarray'>\n",
      "[ 0.49822649  0.01485332  0.1052539  -0.20120628] \n",
      "\n",
      "<class 'pandas.core.series.Series'>\n",
      "0    0.498226\n",
      "1    0.014853\n",
      "2    0.105254\n",
      "3   -0.201206\n",
      "dtype: float64\n"
     ]
    }
   ],
   "source": [
    "#The first core object of pandas is the series. A series is a one-dimensional array of indexed data.\n",
    "\n",
    "#A pandas.Series having an index is the main difference between a pandas.Series and a NumPy array. Let’s see the difference:\n",
    "\n",
    "# A numpy array\n",
    "arr = np.random.randn(4) # random values from std normal distribution\n",
    "print(type(arr))\n",
    "print(arr, \"\\n\")\n",
    "\n",
    "# A pandas series made from the previous array\n",
    "s = pd.Series(arr)\n",
    "print(type(s))\n",
    "print(s)\n",
    "\n",
    "#Notice the index is printed as part of the pandas.Series while, although the np.array is indexable, \n",
    "#the index is not part of this data structure. Printing the pandas.Series also shows the values and their data type."
   ]
  },
  {
   "cell_type": "code",
   "execution_count": 3,
   "id": "d781da8a-bea6-4e55-8da0-92f7457f352c",
   "metadata": {},
   "outputs": [],
   "source": [
    "# The basic method to create a pandas.Series is to call\n",
    "#s = pd.Series(data, index=index)\n",
    "#The data parameter can be:\n",
    "\n",
    "#a list or NumPy array,\n",
    "#a Python dictionary, or\n",
    "#a single number, boolean (True/False), or string.\n",
    "#The index parameter is optional, if we wish to include it, it must be a list of list of indices of the same length as data."
   ]
  },
  {
   "cell_type": "code",
   "execution_count": 4,
   "id": "ab2568ab-aed3-4953-b50e-9e4e3c537d9d",
   "metadata": {
    "tags": []
   },
   "outputs": [
    {
     "data": {
      "text/plain": [
       "2023    0\n",
       "2024    1\n",
       "2025    2\n",
       "dtype: int64"
      ]
     },
     "execution_count": 4,
     "metadata": {},
     "output_type": "execute_result"
    }
   ],
   "source": [
    "# A series from a numpy array \n",
    "pd.Series(np.arange(3), index=[2023, 2024, 2025])"
   ]
  },
  {
   "cell_type": "code",
   "execution_count": 5,
   "id": "3728a66e-a388-419e-a5ff-8125f1f2709c",
   "metadata": {
    "tags": []
   },
   "outputs": [
    {
     "data": {
      "text/plain": [
       "0    EDS 220\n",
       "1    EDS 222\n",
       "2    EDS 223\n",
       "3    EDS 242\n",
       "dtype: object"
      ]
     },
     "execution_count": 5,
     "metadata": {},
     "output_type": "execute_result"
    }
   ],
   "source": [
    "# A series from a list of strings with default index\n",
    "pd.Series(['EDS 220', 'EDS 222', 'EDS 223', 'EDS 242'])"
   ]
  },
  {
   "cell_type": "code",
   "execution_count": 6,
   "id": "7aed9670-8633-4ff7-a033-6c00fbf34dc6",
   "metadata": {
    "tags": []
   },
   "outputs": [
    {
     "data": {
      "text/plain": [
       "key_0    2\n",
       "key_1    3\n",
       "key_2    5\n",
       "dtype: object"
      ]
     },
     "execution_count": 6,
     "metadata": {},
     "output_type": "execute_result"
    }
   ],
   "source": [
    "#Example: Creating a pandas.Series from a dictionary\n",
    "#Recall that a dictionary is a set of key-value pairs. If we create a pandas.Series via a dictionary the keys will become \n",
    "#the index and the values the corresponding data.\n",
    "\n",
    "# Construct dictionary\n",
    "d = {'key_0':2, 'key_1':'3', 'key_2':5}\n",
    "\n",
    "# Initialize series using a dictionary\n",
    "pd.Series(d)"
   ]
  },
  {
   "cell_type": "code",
   "execution_count": 7,
   "id": "159ad13f-0e1d-49a8-b387-8a7f5af9b575",
   "metadata": {
    "tags": []
   },
   "outputs": [
    {
     "data": {
      "text/plain": [
       "A    3.0\n",
       "B    3.0\n",
       "C    3.0\n",
       "dtype: float64"
      ]
     },
     "execution_count": 7,
     "metadata": {},
     "output_type": "execute_result"
    }
   ],
   "source": [
    "pd.Series(3.0, index = ['A', 'B', 'C'])"
   ]
  },
  {
   "cell_type": "code",
   "execution_count": 8,
   "id": "d3691ad5-c9d4-4c76-9601-c7ba313ff9bc",
   "metadata": {
    "tags": []
   },
   "outputs": [
    {
     "name": "stdout",
     "output_type": "stream",
     "text": [
      "Andrea      9.8\n",
      "Beth        7.3\n",
      "Carolina    6.5\n",
      "dtype: float64 \n",
      "\n",
      "Andrea      3.637971e+42\n",
      "Beth        5.052394e+31\n",
      "Carolina    1.694889e+28\n",
      "dtype: float64 \n",
      "\n",
      "Andrea      98\n",
      "Beth        73\n",
      "Carolina    65\n",
      "dtype: int64\n"
     ]
    }
   ],
   "source": [
    "# Define a series\n",
    "s = pd.Series([98,73,65],index=['Andrea', 'Beth', 'Carolina'])\n",
    "\n",
    "# Divide each element in series by 10\n",
    "print(s /10, '\\n')\n",
    "\n",
    "# Take the exponential of each element in series\n",
    "print(np.exp(s), '\\n')\n",
    "\n",
    "# Original series is unchanged\n",
    "print(s)"
   ]
  },
  {
   "cell_type": "code",
   "execution_count": 9,
   "id": "b5575f12-5154-4938-ba86-f3989c952465",
   "metadata": {
    "tags": []
   },
   "outputs": [
    {
     "data": {
      "text/plain": [
       "Andrea       True\n",
       "Beth         True\n",
       "Carolina    False\n",
       "dtype: bool"
      ]
     },
     "execution_count": 9,
     "metadata": {},
     "output_type": "execute_result"
    }
   ],
   "source": [
    "#We can also produce new pandas.Series with True/False values indicating whether the elements in a series satisfy a condition or not:\n",
    "\n",
    "s > 70"
   ]
  },
  {
   "cell_type": "code",
   "execution_count": 10,
   "id": "23dc8bd6-5bcb-49b0-870e-c7269e163c31",
   "metadata": {
    "tags": []
   },
   "outputs": [
    {
     "data": {
      "text/plain": [
       "0    1.0\n",
       "1    2.0\n",
       "2    NaN\n",
       "3    4.0\n",
       "4    NaN\n",
       "dtype: float64"
      ]
     },
     "execution_count": 10,
     "metadata": {},
     "output_type": "execute_result"
    }
   ],
   "source": [
    "#In pandas we can represent a missing, NULL, or NA value with the float value numpy.nan, which stands for “not a number”. \n",
    "#Let’s construct a small series with some NA values represented this way:\n",
    "\n",
    "# Series with NAs in it\n",
    "s = pd.Series([1, 2, np.nan, 4, np.nan])\n",
    "s\n",
    "#Notice the data type of the values it he series is still float64."
   ]
  },
  {
   "cell_type": "code",
   "execution_count": 11,
   "id": "3ce59ca0-8f69-493e-aba3-26db06c9e15e",
   "metadata": {
    "tags": []
   },
   "outputs": [
    {
     "data": {
      "text/plain": [
       "0    False\n",
       "1    False\n",
       "2     True\n",
       "3    False\n",
       "4     True\n",
       "dtype: bool"
      ]
     },
     "execution_count": 11,
     "metadata": {},
     "output_type": "execute_result"
    }
   ],
   "source": [
    "#The hasnans attribute for a pandas.Series returns True if there are any NA values in it and false otherwise:\n",
    "\n",
    "# Check if series has NAs\n",
    "s.hasnans\n",
    "\n",
    "s.isna()\n",
    "#The ouput is a pandas.Series of boolean values indicating if an element in the row at \n",
    "#the given index is np.nan (True = is NA) or not (False = not NA)."
   ]
  },
  {
   "cell_type": "markdown",
   "id": "41eef926-398d-49a0-95dc-8f9dba5d98e8",
   "metadata": {},
   "source": [
    "# Check in 1"
   ]
  },
  {
   "cell_type": "code",
   "execution_count": 12,
   "id": "f6588e95-ab84-46f9-9ab4-589bf1ce20df",
   "metadata": {
    "tags": []
   },
   "outputs": [
    {
     "name": "stdout",
     "output_type": "stream",
     "text": [
      "A     69\n",
      "B   -999\n",
      "C    420\n",
      "D   -999\n",
      "dtype: int64\n",
      "A     69.0\n",
      "B      NaN\n",
      "C    420.0\n",
      "D      NaN\n",
      "dtype: float64\n"
     ]
    }
   ],
   "source": [
    "#The integer number -999 is often used to represent missing values. Create a pandas.Series named s with four integer values,\n",
    "#two of which are -999. The index of this series \n",
    "#should be the the letters A through D.\n",
    "\n",
    "data = [69, -999, 420, -999]\n",
    "index = [\"A\", \"B\", \"C\", \"D\"]\n",
    "series = pd.Series(data, index=index)\n",
    "\n",
    "print(series)\n",
    "\n",
    "#In the pandas.Series documentation, look for the method mask(). Use this method to update the series s so that the -999 values are\n",
    "#replaced by NA values. HINT: check the first example in the method’s documentation.\n",
    "\n",
    "series = series.mask(series == -999, pd.NA)\n",
    "\n",
    "print(series)"
   ]
  },
  {
   "cell_type": "code",
   "execution_count": 13,
   "id": "5426c777-dadf-47fe-b88f-7a8d161c5e12",
   "metadata": {
    "tags": []
   },
   "outputs": [
    {
     "data": {
      "text/html": [
       "<div>\n",
       "<style scoped>\n",
       "    .dataframe tbody tr th:only-of-type {\n",
       "        vertical-align: middle;\n",
       "    }\n",
       "\n",
       "    .dataframe tbody tr th {\n",
       "        vertical-align: top;\n",
       "    }\n",
       "\n",
       "    .dataframe thead th {\n",
       "        text-align: right;\n",
       "    }\n",
       "</style>\n",
       "<table border=\"1\" class=\"dataframe\">\n",
       "  <thead>\n",
       "    <tr style=\"text-align: right;\">\n",
       "      <th></th>\n",
       "      <th>col_name_1</th>\n",
       "      <th>col_name_2</th>\n",
       "    </tr>\n",
       "  </thead>\n",
       "  <tbody>\n",
       "    <tr>\n",
       "      <th>a</th>\n",
       "      <td>0</td>\n",
       "      <td>3.1</td>\n",
       "    </tr>\n",
       "    <tr>\n",
       "      <th>b</th>\n",
       "      <td>1</td>\n",
       "      <td>3.2</td>\n",
       "    </tr>\n",
       "    <tr>\n",
       "      <th>c</th>\n",
       "      <td>2</td>\n",
       "      <td>3.3</td>\n",
       "    </tr>\n",
       "  </tbody>\n",
       "</table>\n",
       "</div>"
      ],
      "text/plain": [
       "   col_name_1  col_name_2\n",
       "a           0         3.1\n",
       "b           1         3.2\n",
       "c           2         3.3"
      ]
     },
     "execution_count": 13,
     "metadata": {},
     "output_type": "execute_result"
    }
   ],
   "source": [
    "#The pandas.DataFrame is the most used pandas object. It represents tabular data and we can think of it as a spreadhseet. \n",
    "#Each column of a pandas.DataFrame is a pandas.Series.\n",
    "\n",
    "#There are many ways of creating a pandas.DataFrame. We present one simple one in this section.\n",
    "\n",
    "#We already mentioned each column of a pandas.DataFrame is a pandas.Series. \n",
    "#In fact, the pandas.DataFrame is a dictionary of pandas.Series, with each column name being the key and the column values being the key’s value. \n",
    "#Thus, we can create a pandas.DataFrame in this way:\n",
    "\n",
    "# Initialize dictionary with columns' data \n",
    "d = {'col_name_1' : pd.Series(np.arange(3)),\n",
    "     'col_name_2' : pd.Series([3.1, 3.2, 3.3]),\n",
    "     }\n",
    "\n",
    "# Create data frame\n",
    "df = pd.DataFrame(d)\n",
    "df\n",
    "\n",
    "# Change index\n",
    "df.index = ['a','b','c']\n",
    "df\n"
   ]
  },
  {
   "cell_type": "markdown",
   "id": "755a11ab-caba-45fb-bd66-4d73fc021540",
   "metadata": {},
   "source": [
    "# Check in 2"
   ]
  },
  {
   "cell_type": "code",
   "execution_count": 14,
   "id": "524f48ae-0223-4b1f-b442-2ada1cc4a74f",
   "metadata": {
    "tags": []
   },
   "outputs": [
    {
     "data": {
      "text/html": [
       "<div>\n",
       "<style scoped>\n",
       "    .dataframe tbody tr th:only-of-type {\n",
       "        vertical-align: middle;\n",
       "    }\n",
       "\n",
       "    .dataframe tbody tr th {\n",
       "        vertical-align: top;\n",
       "    }\n",
       "\n",
       "    .dataframe thead th {\n",
       "        text-align: right;\n",
       "    }\n",
       "</style>\n",
       "<table border=\"1\" class=\"dataframe\">\n",
       "  <thead>\n",
       "    <tr style=\"text-align: right;\">\n",
       "      <th></th>\n",
       "      <th>C1</th>\n",
       "      <th>C2</th>\n",
       "    </tr>\n",
       "  </thead>\n",
       "  <tbody>\n",
       "    <tr>\n",
       "      <th>a</th>\n",
       "      <td>0</td>\n",
       "      <td>3.1</td>\n",
       "    </tr>\n",
       "    <tr>\n",
       "      <th>b</th>\n",
       "      <td>1</td>\n",
       "      <td>3.2</td>\n",
       "    </tr>\n",
       "    <tr>\n",
       "      <th>c</th>\n",
       "      <td>2</td>\n",
       "      <td>3.3</td>\n",
       "    </tr>\n",
       "  </tbody>\n",
       "</table>\n",
       "</div>"
      ],
      "text/plain": [
       "   C1   C2\n",
       "a   0  3.1\n",
       "b   1  3.2\n",
       "c   2  3.3"
      ]
     },
     "execution_count": 14,
     "metadata": {},
     "output_type": "execute_result"
    }
   ],
   "source": [
    "#We can access the data frame’s column names via the columns attribute. Update the column names to C1 and C2 by updating this attribute.\n",
    "\n",
    "# Rename multiple columns\n",
    "df = df.rename(columns={'col_name_1': 'C1', 'col_name_2': 'C2'})\n",
    "\n",
    "df\n"
   ]
  },
  {
   "cell_type": "markdown",
   "id": "2166996d-6069-4638-af9d-2ea1780da4ab",
   "metadata": {},
   "source": [
    "# Lesson Summary"
   ]
  },
  {
   "cell_type": "markdown",
   "id": "077700f3-8718-4d1f-9c85-ac5143bc2a27",
   "metadata": {},
   "source": [
    "Most important concepts: The difference between a Series and a Dataframe. The concept of Indexes. Reviewing both this \n",
    "worksheet and my Python summer class notes was extremely helpful for comprehension and completion. "
   ]
  }
 ],
 "metadata": {
  "kernelspec": {
   "display_name": "Python 3.10.0",
   "language": "python",
   "name": "python3.10.0"
  },
  "language_info": {
   "codemirror_mode": {
    "name": "ipython",
    "version": 3
   },
   "file_extension": ".py",
   "mimetype": "text/x-python",
   "name": "python",
   "nbconvert_exporter": "python",
   "pygments_lexer": "ipython3",
   "version": "3.10.0"
  }
 },
 "nbformat": 4,
 "nbformat_minor": 5
}
